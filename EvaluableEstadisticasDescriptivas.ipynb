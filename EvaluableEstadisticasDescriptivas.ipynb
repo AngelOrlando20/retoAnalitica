{
  "nbformat": 4,
  "nbformat_minor": 0,
  "metadata": {
    "colab": {
      "provenance": []
    },
    "kernelspec": {
      "name": "python3",
      "display_name": "Python 3"
    },
    "language_info": {
      "name": "python"
    }
  },
  "cells": [
    {
      "cell_type": "markdown",
      "source": [
        "# Actividad Evaluable: Obtención de estadisticas descriptivas\n",
        "\n",
        "Nombre: Angel Orlando Vazquez Morales,\n",
        "Matrícula: A01659000\n",
        "\n",
        "### 1. Carga de archivo .csv\n",
        "Se carga el archivo avocado.csv ubicado en el mismo directorio que este archivo."
      ],
      "metadata": {
        "id": "-NAON5AgVJzx"
      }
    },
    {
      "cell_type": "code",
      "execution_count": null,
      "metadata": {
        "id": "RUbiR4QeVFUy"
      },
      "outputs": [],
      "source": [
        "# Actividad Evaluable: Obtención de estadisticas descriptivas.\n",
        "# Nombre: Angel Orlando Vazquez Morales\n",
        "# Matrícula: A01659000.\n",
        "\n",
        "import pandas as pd\n",
        "import numpy as np\n",
        "\n",
        "# CARGA DE DATOS CON PANDAS.\n",
        "df1 = pd.read_csv('./avocado.csv')\n",
        "df1"
      ]
    },
    {
      "cell_type": "markdown",
      "source": [
        "### 2. Cantidad de datos, las variables que contiene cada vector de datos, tipo de variables.\n",
        "\n",
        "Se imprime el numero de columnas y filas de datos para contabilizar la cantidad de datos que contiene el archivo y se imprimen las variables de cada columna o vector de datos."
      ],
      "metadata": {
        "id": "XeGkw73FV6WR"
      }
    },
    {
      "cell_type": "code",
      "source": [
        "# Imprimir resumen de datos (primeras filas de datos)\n",
        "\n",
        "print(\"= DATOS: =\")\n",
        "print(df1.head())\n",
        "print()\n",
        "\n",
        "# Número de columnas y datos.\n",
        "\n",
        "print(\"= Cantidad de DATOS =\")\n",
        "print(\"Columnas: \", len(df1.axes[0]))\n",
        "print(\"Filas: \", len(df1.axes[1]))\n",
        "print(\"Total de datos: \", len(df1.axes[0]) * len(df1.axes[1]))\n",
        "print(\"= Tipos de datos =\")\n",
        "print(list(df1.columns))\n",
        "print(\"\")\n",
        "# ? Tipo de variable?"
      ],
      "metadata": {
        "id": "utik6yOOWBa2"
      },
      "execution_count": null,
      "outputs": []
    },
    {
      "cell_type": "markdown",
      "source": [
        "### 3. Rango de datos de precio promedio.\n",
        "El dato 'Date' significa la fecha en la que fue recabada la información, 'AveragePrice' muestra el precio promedio de aguacates vendido y se puede comparar con otros datos para comprender como se fijaron los precios dependiendo por ejemplo, de la región. 'Total Volume' significa el volumen de aguacates que fueron manejados y puede reflejar la capacidad de producción que tiene una región específica. 'Region' muestra la región donde se produjieron aguacates."
      ],
      "metadata": {
        "id": "SpyRmHXBbdwj"
      }
    },
    {
      "cell_type": "code",
      "source": [
        "print(\"= Rangos =\")\n",
        "print(df1.axes[0])\n",
        "print(df1.axes[1])\n",
        "print()\n",
        "\n",
        "for col in df1.columns:\n",
        "    print(f'Rango de \"{col}\": [{df1[col].min()}, {df1[col].max()}]')\n",
        "print()\n",
        "\n",
        "# Rango de datos de precio promedio.\n",
        "\n",
        "print(\"= Max/Min de precio promedio: =\")\n",
        "print(\"Minimo:\", df1['AveragePrice'].min())\n",
        "print(\"Maximo:\", df1['AveragePrice'].max())\n",
        "print()"
      ],
      "metadata": {
        "id": "Rsa5juPAbenD"
      },
      "execution_count": null,
      "outputs": []
    },
    {
      "cell_type": "markdown",
      "source": [
        "### 4. Media, mediana y desviación estándar de los precios promedio.\n",
        "¿Qué conclusiones puedes llegar de estos datos?\n",
        "Los datos recabados, es decir, la media, mediana y desviación estándar de los precios promedio (1.405, 1.37, 0.402) y del volumen total de aguacates (850,644, 107,376, 3,453,545) pueden dar datos sobre la producción de aguacate.\n",
        "\n",
        "\n",
        "Primero, la alta desviación estándar que existe en el volumen total de aguacate (3,453,545) refleja que entre cada región existe una gran diferencia de producción de aguacate, que se puede deber al clima donde se cultivan estos frutos y la escala de la producción, esto se soporta por la mediana del volumen total (107, 376) puesto que hay una minoría de regiones que producen la mayoría del aguacate, mientras que la mayoría conforman un pequeño porcentaje.\n",
        "\n",
        "Con respecto al precio, la mediana es muy cercana al promedio, además de que la desviación estándar es menor a 0.5. Esto demuestra que los precios se distribuyen muy equitativamente entre regiones y otros factores como por ejemplo la epoca donde se consume más cantidad de aguacate (Super Bowl), o el clima."
      ],
      "metadata": {
        "id": "EedLYJ0OWz6O"
      }
    },
    {
      "cell_type": "code",
      "source": [
        "# Media, mediana y desv. estándar de cada precio promedio de los datos.\n",
        "print(\"= Datos sobre los precios promedio: =\")\n",
        "print(\"Promedio: \", df1[\"AveragePrice\"].mean())\n",
        "print(\"Mediana: \", df1[\"AveragePrice\"].median())\n",
        "print(\"Desviación estándar: \", df1[\"AveragePrice\"].std())\n",
        "print()\n",
        "# Media, mediana y desv. estándar sobre el volumen total.\n",
        "print(\"= Datos sobre los precios promedio: =\")\n",
        "print(\"Promedio: \", df1[\"Total Volume\"].mean())\n",
        "print(\"Mediana: \", df1[\"Total Volume\"].median())\n",
        "print(\"Desviación estándar: \", df1[\"Total Volume\"].std())\n",
        "print()"
      ],
      "metadata": {
        "id": "R78goZUIW5Zj"
      },
      "execution_count": null,
      "outputs": []
    },
    {
      "cell_type": "markdown",
      "source": [
        "### 5. Región con el mayor volumen de aguacates."
      ],
      "metadata": {
        "id": "fRj4eLOTvulX"
      }
    },
    {
      "cell_type": "code",
      "source": [
        "# Se imprimen todas las regiones presentes en los datos.\n",
        "regions = df1['region'].unique()\n",
        "print(regions)\n",
        "\n",
        "max: int = df1.loc[df1['region'] == regions[0]]['Total Volume'].sum()\n",
        "region: str = \"\"\n",
        "for i in range(1, len(regions)):\n",
        "  a = df1.loc[df1['region'] == regions[i]]['Total Volume'].sum()\n",
        "  if (a > max):\n",
        "    max = a\n",
        "    region = regions[i]\n",
        "# Se imprime la región con el mayor volumen total de aguacates.\n",
        "print()\n",
        "print('Precio máximo: ', max, ', región: ', region)"
      ],
      "metadata": {
        "id": "Z2n7l0y6vvHN"
      },
      "execution_count": null,
      "outputs": []
    }
  ]
}