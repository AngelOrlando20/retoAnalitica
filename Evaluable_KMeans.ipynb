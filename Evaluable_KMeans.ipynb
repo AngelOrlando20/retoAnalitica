{
  "nbformat": 4,
  "nbformat_minor": 0,
  "metadata": {
    "colab": {
      "provenance": []
    },
    "kernelspec": {
      "name": "python3",
      "display_name": "Python 3"
    },
    "language_info": {
      "name": "python"
    }
  },
  "cells": [
    {
      "cell_type": "markdown",
      "source": [
        "# Actividad Evaluable: Patrones con K-means\n",
        "Nombre: Angel Orlando Vázquez Morales\n",
        ", Matrícula: A01659000\n",
        "\n",
        "### 1. Carga de datos (covid19_tweets.csv)"
      ],
      "metadata": {
        "id": "mZhf9U6Fx4kg"
      }
    },
    {
      "cell_type": "code",
      "execution_count": null,
      "metadata": {
        "id": "gJJL7OEqx00k"
      },
      "outputs": [],
      "source": [
        "from sklearn.cluster import KMeans\n",
        "import numpy as np\n",
        "import matplotlib.pyplot as plt\n",
        "import pandas as pd\n",
        "\n",
        "df = pd.read_csv(\"./content/covid19_tweets.csv\")"
      ]
    },
    {
      "cell_type": "markdown",
      "source": [
        "### 2. Relacion entre Amistades y Followers."
      ],
      "metadata": {
        "id": "-aTl5kzsz4Zk"
      }
    },
    {
      "cell_type": "code",
      "source": [
        "# Relacion entre Amistades y Followers.\n",
        "points = []\n",
        "for i in range(len(df['user_followers'])):\n",
        "  points.append([df[\"user_followers\"][i], df[\"user_friends\"][i]])\n",
        "\n",
        "pnp = np.array(points)\n",
        "plt.scatter(pnp[:,0],pnp[:,1])\n",
        "\n",
        "n = 4\n",
        "k_means = KMeans(n_clusters=n, max_iter=300, tol=1e+1)\n",
        "k_means.fit(pnp)\n",
        "\n",
        "centroides = k_means.cluster_centers_\n",
        "etiquetas = k_means.labels_\n",
        "\n",
        "plt.plot(pnp[etiquetas==0,0],pnp[etiquetas==0,1],'r.', label='cluster 1')\n",
        "plt.plot(pnp[etiquetas==1,0],pnp[etiquetas==1,1],'b.', label='cluster 2')\n",
        "plt.plot(pnp[etiquetas==2,0],pnp[etiquetas==2,1],'g.', label='cluster 3')\n",
        "\n",
        "plt.plot(centroides[:,0],centroides[:,1],'mo',markersize=8, label='centroides')\n",
        "\n",
        "plt.legend(loc='best')\n",
        "plt.show()"
      ],
      "metadata": {
        "id": "fmj8P-Ulz4sU"
      },
      "execution_count": null,
      "outputs": []
    },
    {
      "cell_type": "markdown",
      "source": [
        "¿Crees que estos centros puedan ser representativos de los datos? ¿Por qué?\n",
        "Creo que con estos centros calculados, se pueden sacar conclusiones. La primera razón es que los centros se ajustan a los diferentes picos con numero de amistades que varían en el diagrama, en especial el primer pico donde existe una explosión de amistades para los usuarios o bots que tienen pocos followers.\n",
        "\n",
        "¿Cómo obtuviste el valor de k a usar?\n",
        "\n",
        "Primero probé graficando con un valor de k = 3, y meti otros valores como k = 4 y k = 5 y k = 6, y al final elegí el valor de 4, pues siento que se ajusta mejor este valor. Con k = 4 se dividen a los datos en 4 agrupaciones que se ajustan a picos de amigos, y separan concretamente los grupos entre los más famosos de la plataforma, aquellos que son medianamente reconocidos, los localmente reconocidos y la gran mayoría que son usuarios que revisan información o bots.\n",
        "\n",
        "¿Los centros serían más representativos si usaras un valor más alto? ¿Más bajo?\n",
        "\n",
        "No creo que los centros se ajustarían más\n",
        "\n",
        "¿Qué distancia tienen los centros entre sí? ¿Hay alguno que este muy cercano a otros?\n",
        "\n",
        "\n",
        "\n",
        "¿Qué pasaría con los centros si tuviéramos muchos outliers en el análisis de cajas y bigotes?\n",
        "\n",
        "¿Qué puedes decir de los datos basándose en los centros?"
      ],
      "metadata": {
        "id": "P8Qk1FYjyEjA"
      }
    }
  ]
}